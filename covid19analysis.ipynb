{
 "cells": [
  {
   "cell_type": "markdown",
   "metadata": {},
   "source": [
    "# Importing Packages and Loading JHU Global Data"
   ]
  },
  {
   "cell_type": "code",
   "execution_count": 201,
   "metadata": {},
   "outputs": [],
   "source": [
    "import pandas as pd\n",
    "import numpy as np\n",
    "from os import __file__\n",
    "import matplotlib.pyplot as plt\n",
    "from matplotlib.pyplot import *\n",
    "from lmfit.models import LorentzianModel\n",
    "\n",
    "# Loading in the latest JHU COVID-19 data\n",
    "confirmedTS_df = pd.read_csv('time_series_covid19_confirmed_global.csv')\n",
    "deathsTS_df = pd.read_csv('time_series_covid19_deaths_global.csv')\n",
    "recoveredTS_df = pd.read_csv('time_series_covid19_recovered_global.csv')"
   ]
  },
  {
   "cell_type": "markdown",
   "metadata": {},
   "source": [
    "# Plotting the list of Countries"
   ]
  },
  {
   "cell_type": "code",
   "execution_count": 204,
   "metadata": {},
   "outputs": [
    {
     "data": {
      "text/plain": [
       "35.21212121212121"
      ]
     },
     "execution_count": 204,
     "metadata": {},
     "output_type": "execute_result"
    }
   ],
   "source": [
    "# Choosing countries of interest and plotting the data\n",
    "myCC_li = ['China','Russia','Iran','Korea, South']\n",
    "\n",
    "def CompileCountryData(myCC_li):\n",
    "    \"\"\"\n",
    "    Input: list of countries of interest\n",
    "    Output: a dictionary of dataframes containing lists of dataframes\n",
    "    the different types of statistics for the COVID-19 pandemic for a \n",
    "    given country.\n",
    "        Different Types of Statistics:\n",
    "        - Confirmed Cases\n",
    "        - Deaths\n",
    "        - Recovered Cases\n",
    "        - New Cases\n",
    "    \"\"\"\n",
    "    myCCdata_dict = {}\n",
    "    for CC in myCC_li:\n",
    "        CCc_DF = confirmedTS_df[confirmedTS_df['Country/Region'] == CC]\n",
    "        # Calculating the number of new cases per day based on the confirmed cases\n",
    "        conf_shap = CCc_DF.shape\n",
    "        if conf_shap[0] == 1:\n",
    "            meta_slice_df = CCc_DF.iloc[:,:4]\n",
    "            num_slice = CCc_DF.iloc[:,4:].values[0]\n",
    "            date_columns = CCc_DF.iloc[:,4:].columns\n",
    "            ind = CCc_DF.iloc[:,4:].index\n",
    "            new_cases_ar = np.diff(num_slice)\n",
    "            new_cases_ar = np.vstack(np.append(0,new_cases_ar)).T\n",
    "            new_cases_df = pd.DataFrame(new_cases_ar,columns=date_columns,index=ind)\n",
    "            new_cases_df = meta_slice_df.merge(new_cases_df,left_index=True,right_index=True)\n",
    "        else:\n",
    "            meta_slice_df = CCc_DF.iloc[:,:4]\n",
    "            num_slice = CCc_DF.iloc[:,4:].values\n",
    "            date_columns = CCc_DF.iloc[:,4:].columns\n",
    "            ind = CCc_DF.iloc[:,4:].index\n",
    "            new_cases_ar = np.gradient(num_slice)[1]\n",
    "            new_cases_df = pd.DataFrame(new_cases_ar,columns=date_columns,index=ind)\n",
    "            new_cases_df = meta_slice_df.merge(new_cases_df,left_index=True,right_index=True)\n",
    "        # Loading the remainder of the data\n",
    "        CCd_DF = deathsTS_df[deathsTS_df['Country/Region'] == CC]\n",
    "        CCr_DF = recoveredTS_df[recoveredTS_df['Country/Region'] == CC]\n",
    "        CCdata_li = [CCc_DF,CCd_DF,CCr_DF,new_cases_df]\n",
    "        myCCdata_dict[CC] = CCdata_li\n",
    "    return myCCdata_dict\n",
    "        # Plots Below\n",
    "#         for t in range(len(CCdata_li)):\n",
    "#             if t == 0:\n",
    "#                 fig, ax = subplots()\n",
    "#                 plt.title(CC+' Confirmed Cases')\n",
    "#                 plt.xlabel('Days')\n",
    "#                 plt.ylabel('Cases')\n",
    "#                 myCCdata_dict[CC][t].T[4:].plot(figsize=(15,10),logy=True,ax=ax)\n",
    "#                 plt.legend(list(myCCdata_dict[CC][t].T.loc['Province/State']))\n",
    "#             elif t == 1:\n",
    "#                 fig, ax = subplots()\n",
    "#                 plt.title(CC+' Deaths')\n",
    "#                 plt.xlabel('Days')\n",
    "#                 plt.ylabel('Cases')\n",
    "#                 myCCdata_dict[CC][t].T[4:].plot(figsize=(15,10),logy=True,ax=ax)\n",
    "#                 plt.legend(list(myCCdata_dict[CC][t].T.loc['Province/State']))\n",
    "#             elif t == 2:\n",
    "#                 fig, ax = subplots()\n",
    "#                 plt.title(CC+' Recovered Cases')\n",
    "#                 plt.xlabel('Days')\n",
    "#                 plt.ylabel('Cases')\n",
    "#                 myCCdata_dict[CC][t].T[4:].plot(figsize=(15,10),logy=True,ax=ax)\n",
    "#                 plt.legend(list(myCCdata_dict[CC][t].T.loc['Province/State']))\n",
    "#             else:\n",
    "#                 fig, ax = subplots()\n",
    "#                 plt.title(CC+' New Cases')\n",
    "#                 plt.xlabel('Days')\n",
    "#                 plt.ylabel('Cases')\n",
    "#                 myCCdata_dict[CC][t].T[4:].plot(figsize=(15,10),logy=True,ax=ax)\n",
    "#                 plt.legend(list(myCCdata_dict[CC][t].T.loc['Province/State']))\n",
    "\n",
    "def GenerateStabilizationEstimate(myCCdata_dict,country):\n",
    "    \"\"\"\n",
    "    Input: Dictionary of statistics based on each country from CompileCountryData()\n",
    "    Output: DataFrame containing estimates for ranges\n",
    "    of times that it took for each individual province to \n",
    "    stabilize\n",
    "    \"\"\"\n",
    "    lrtz_mod = LorentzianModel()\n",
    "    stpr_li = myCCdata_dict[country][0]['Province/State'].tolist()\n",
    "    time_estimate_li = []\n",
    "    for i in range(len(myCCdata_dict[country][0])):\n",
    "        # creating arrays for the Confirmed cases and the New Cases\n",
    "        countryConfirmed_ar = myCCdata_dict[country][0].iloc[:,4:].values[i]\n",
    "        countryNewCases_ar = myCCdata_dict[country][3].iloc[:,4:].values[i]\n",
    "    \n",
    "#         fig, ax = subplots()\n",
    "#         plt.title('China COVID-19 Trajectory')\n",
    "#         plt.xlabel('Confirmed Cases')\n",
    "#         plt.ylabel('New Cases')\n",
    "#         ax.set_yscale('log')\n",
    "#         ax.set_xscale('log')\n",
    "#         plt.plot(countryConfirmed_ar,countryNewCases_ar)\n",
    "    \n",
    "        # creating Lorentzian fit\n",
    "        params = lrtz_mod.guess(countryNewCases_ar,x=countryConfirmed_ar)\n",
    "        result = lrtz_mod.fit(countryNewCases_ar,params,x=countryConfirmed_ar)\n",
    "        fit_params_dict = result.params.valuesdict()\n",
    "#         result.plot_fit()\n",
    "#         plt.show()\n",
    "#         print(result.fit_report())\n",
    "\n",
    "        # obtaining an estimate of the date of stabilization\n",
    "        stableCases_pt = fit_params_dict['center'] + 2.5*fit_params_dict['sigma']\n",
    "        ind_scpt = np.where(countryConfirmed_ar == min(countryConfirmed_ar, key=lambda x:abs(x-stableCases_pt)))[0][0]\n",
    "        date_li = list(myCCdata_dict[country][0].iloc[:,4:].columns)\n",
    "        estimate_df = pd.DataFrame({'PROVINCE_STATE':stpr_li[i],'STABLE_CASES_NUM':stableCases_pt,'START_DATE':date_li[0],'STABLE_DATE':date_li[ind_scpt],'DAYS':ind_scpt+1},index=[0])\n",
    "        time_estimate_li.append(estimate_df)\n",
    "    \n",
    "    compiled_df = pd.concat(time_estimate_li,axis=0).reset_index(drop=True)\n",
    "    return compiled_df\n",
    "\n",
    "myCCdata_dict = CompileCountryData(myCC_li)\n",
    "compiled_df = GenerateStabilizationEstimate(myCCdata_dict,'China')\n",
    "compiled_df.DAYS.mean()"
   ]
  },
  {
   "cell_type": "code",
   "execution_count": null,
   "metadata": {},
   "outputs": [],
   "source": []
  },
  {
   "cell_type": "code",
   "execution_count": null,
   "metadata": {},
   "outputs": [],
   "source": []
  },
  {
   "cell_type": "code",
   "execution_count": null,
   "metadata": {},
   "outputs": [],
   "source": []
  }
 ],
 "metadata": {
  "kernelspec": {
   "display_name": "Python 3",
   "language": "python",
   "name": "python3"
  },
  "language_info": {
   "codemirror_mode": {
    "name": "ipython",
    "version": 3
   },
   "file_extension": ".py",
   "mimetype": "text/x-python",
   "name": "python",
   "nbconvert_exporter": "python",
   "pygments_lexer": "ipython3",
   "version": "3.7.6"
  }
 },
 "nbformat": 4,
 "nbformat_minor": 4
}
